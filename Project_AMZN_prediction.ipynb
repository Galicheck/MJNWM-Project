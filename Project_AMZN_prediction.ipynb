{
 "cells": [
  {
   "cell_type": "markdown",
   "id": "7ebc2084",
   "metadata": {},
   "source": [
    "<div style=\"text-align: center; font-size: 21px; font-weight: bold; text-decoration: underline;\">\n",
    "    Prediction of future Amazon.com stock prices using Machine Learning algorithms\n",
    "</div>"
   ]
  },
  {
   "cell_type": "markdown",
   "id": "ff4c4bd8",
   "metadata": {},
   "source": [
    "Contributors:\n",
    "- Wiktoria Sarabon\n",
    "- Martyna Szawłowska\n",
    "- Magdalena Lamczyk\n",
    "- Jakub Galikowski\n",
    "- Natalia Szczepkowska"
   ]
  },
  {
   "cell_type": "markdown",
   "id": "30215eb1",
   "metadata": {},
   "source": [
    "## Imports"
   ]
  },
  {
   "cell_type": "code",
   "execution_count": 11,
   "id": "60093e59",
   "metadata": {},
   "outputs": [],
   "source": [
    "import pandas as pd\n",
    "import seaborn as sns"
   ]
  },
  {
   "cell_type": "markdown",
   "id": "513bf831",
   "metadata": {},
   "source": [
    "## Data overview"
   ]
  },
  {
   "cell_type": "code",
   "execution_count": 10,
   "id": "0e6b1286",
   "metadata": {},
   "outputs": [
    {
     "data": {
      "text/html": [
       "<div>\n",
       "<style scoped>\n",
       "    .dataframe tbody tr th:only-of-type {\n",
       "        vertical-align: middle;\n",
       "    }\n",
       "\n",
       "    .dataframe tbody tr th {\n",
       "        vertical-align: top;\n",
       "    }\n",
       "\n",
       "    .dataframe thead th {\n",
       "        text-align: right;\n",
       "    }\n",
       "</style>\n",
       "<table border=\"1\" class=\"dataframe\">\n",
       "  <thead>\n",
       "    <tr style=\"text-align: right;\">\n",
       "      <th></th>\n",
       "      <th>Date</th>\n",
       "      <th>AMZN_Open</th>\n",
       "      <th>AMZN_High</th>\n",
       "      <th>AMZN_Low</th>\n",
       "      <th>AMZN_Close</th>\n",
       "      <th>AMZN_Volume</th>\n",
       "      <th>SP100_Open</th>\n",
       "      <th>SP100_High</th>\n",
       "      <th>SP100_Low</th>\n",
       "      <th>SP100_Close</th>\n",
       "      <th>SP100_Volume</th>\n",
       "      <th>Inflation_USA</th>\n",
       "      <th>Inflation_EU</th>\n",
       "      <th>Inflation_World</th>\n",
       "      <th>Revenue_Billions</th>\n",
       "    </tr>\n",
       "  </thead>\n",
       "  <tbody>\n",
       "    <tr>\n",
       "      <th>0</th>\n",
       "      <td>1997-05-15</td>\n",
       "      <td>0.121875</td>\n",
       "      <td>0.125000</td>\n",
       "      <td>0.096354</td>\n",
       "      <td>0.097917</td>\n",
       "      <td>1.443120e+09</td>\n",
       "      <td>410.994995</td>\n",
       "      <td>414.295013</td>\n",
       "      <td>409.625000</td>\n",
       "      <td>414.200012</td>\n",
       "      <td>9.163600e+08</td>\n",
       "      <td>2.34</td>\n",
       "      <td>3.11</td>\n",
       "      <td>5.57</td>\n",
       "      <td>0.064587</td>\n",
       "    </tr>\n",
       "    <tr>\n",
       "      <th>1</th>\n",
       "      <td>1997-05-16</td>\n",
       "      <td>0.098438</td>\n",
       "      <td>0.098958</td>\n",
       "      <td>0.085417</td>\n",
       "      <td>0.086458</td>\n",
       "      <td>2.940000e+08</td>\n",
       "      <td>414.200012</td>\n",
       "      <td>414.200012</td>\n",
       "      <td>406.279999</td>\n",
       "      <td>406.279999</td>\n",
       "      <td>9.735600e+08</td>\n",
       "      <td>2.34</td>\n",
       "      <td>3.11</td>\n",
       "      <td>5.57</td>\n",
       "      <td>0.064948</td>\n",
       "    </tr>\n",
       "    <tr>\n",
       "      <th>2</th>\n",
       "      <td>1997-05-19</td>\n",
       "      <td>0.088021</td>\n",
       "      <td>0.088542</td>\n",
       "      <td>0.081250</td>\n",
       "      <td>0.085417</td>\n",
       "      <td>1.221360e+08</td>\n",
       "      <td>406.279999</td>\n",
       "      <td>410.350006</td>\n",
       "      <td>406.279999</td>\n",
       "      <td>409.230011</td>\n",
       "      <td>6.902800e+08</td>\n",
       "      <td>2.34</td>\n",
       "      <td>3.11</td>\n",
       "      <td>5.57</td>\n",
       "      <td>0.066034</td>\n",
       "    </tr>\n",
       "    <tr>\n",
       "      <th>3</th>\n",
       "      <td>1997-05-20</td>\n",
       "      <td>0.086458</td>\n",
       "      <td>0.087500</td>\n",
       "      <td>0.081771</td>\n",
       "      <td>0.081771</td>\n",
       "      <td>1.093440e+08</td>\n",
       "      <td>409.230011</td>\n",
       "      <td>414.480011</td>\n",
       "      <td>405.890015</td>\n",
       "      <td>414.160004</td>\n",
       "      <td>9.017000e+08</td>\n",
       "      <td>2.34</td>\n",
       "      <td>3.11</td>\n",
       "      <td>5.57</td>\n",
       "      <td>0.066395</td>\n",
       "    </tr>\n",
       "    <tr>\n",
       "      <th>4</th>\n",
       "      <td>1997-05-21</td>\n",
       "      <td>0.081771</td>\n",
       "      <td>0.082292</td>\n",
       "      <td>0.068750</td>\n",
       "      <td>0.071354</td>\n",
       "      <td>3.770640e+08</td>\n",
       "      <td>414.160004</td>\n",
       "      <td>416.739990</td>\n",
       "      <td>411.035004</td>\n",
       "      <td>413.140015</td>\n",
       "      <td>1.081460e+09</td>\n",
       "      <td>2.34</td>\n",
       "      <td>3.11</td>\n",
       "      <td>5.57</td>\n",
       "      <td>0.066757</td>\n",
       "    </tr>\n",
       "  </tbody>\n",
       "</table>\n",
       "</div>"
      ],
      "text/plain": [
       "         Date  AMZN_Open  AMZN_High  AMZN_Low  AMZN_Close   AMZN_Volume  \\\n",
       "0  1997-05-15   0.121875   0.125000  0.096354    0.097917  1.443120e+09   \n",
       "1  1997-05-16   0.098438   0.098958  0.085417    0.086458  2.940000e+08   \n",
       "2  1997-05-19   0.088021   0.088542  0.081250    0.085417  1.221360e+08   \n",
       "3  1997-05-20   0.086458   0.087500  0.081771    0.081771  1.093440e+08   \n",
       "4  1997-05-21   0.081771   0.082292  0.068750    0.071354  3.770640e+08   \n",
       "\n",
       "   SP100_Open  SP100_High   SP100_Low  SP100_Close  SP100_Volume  \\\n",
       "0  410.994995  414.295013  409.625000   414.200012  9.163600e+08   \n",
       "1  414.200012  414.200012  406.279999   406.279999  9.735600e+08   \n",
       "2  406.279999  410.350006  406.279999   409.230011  6.902800e+08   \n",
       "3  409.230011  414.480011  405.890015   414.160004  9.017000e+08   \n",
       "4  414.160004  416.739990  411.035004   413.140015  1.081460e+09   \n",
       "\n",
       "   Inflation_USA  Inflation_EU  Inflation_World  Revenue_Billions  \n",
       "0           2.34          3.11             5.57          0.064587  \n",
       "1           2.34          3.11             5.57          0.064948  \n",
       "2           2.34          3.11             5.57          0.066034  \n",
       "3           2.34          3.11             5.57          0.066395  \n",
       "4           2.34          3.11             5.57          0.066757  "
      ]
     },
     "execution_count": 10,
     "metadata": {},
     "output_type": "execute_result"
    }
   ],
   "source": [
    "data = pd.read_csv('data.csv')\n",
    "data.head()"
   ]
  },
  {
   "cell_type": "markdown",
   "id": "d3e63eac",
   "metadata": {},
   "source": [
    "The dataset contains the following 16 columns:\n",
    "- **Date**\n",
    "- **AMZN_Open**: The price at which the Amazon.com stock first traded upon the opening of the market (in USD),\n",
    "- **AMZN_High**: The highest price at which the Amazon.com stock traded during the trading day (in USD),\n",
    "- **AMZN_Low**: The lowest price at which the Amazon.com stock traded during the trading day (in USD),\n",
    "- **AMZN_Close**: The price at which the Amazon.com stock last traded upon the closing of the market (in USD),\n",
    "- **AMZN_Volume**: The total number of Amazon.com shares traded during the trading day (in USD),\n",
    "- **SP100_Open**: The collective starting point of the stocks within the S&P 100 index (in USD),\n",
    "- **SP100_High**: The peak level of the S&P 100 index's performance throughout the trading session (in USD),\n",
    "- **SP100_Low**: The lowest point of the S&P 100 index's performance during the trading session (in USD),\n",
    "- **SP100_Close**: The collective ending point of the stocks within the S&P 100 index (in USD),\n",
    "- **SP100_Volume**: The overall level of activity and trading interest in the stocks comprising the S&P 100 index (in USD),\n",
    "- **Inflation_USA**: Annual mean inflation rate in the USA (in %)\n",
    "- **Inflation_UE**: Annual mean inflation rate in the European Union (in %)\n",
    "- **Inflation_World**: Annual mean inflation rate in the world (in %)\n",
    "- **Revenue_Billions**: Amazon.com revenue (in billions USD)"
   ]
  },
  {
   "cell_type": "code",
   "execution_count": 16,
   "id": "bdd907a0",
   "metadata": {},
   "outputs": [],
   "source": [
    "# info o danych, podstawowe statystyki"
   ]
  },
  {
   "cell_type": "markdown",
   "id": "5cb0fc1d",
   "metadata": {},
   "source": [
    "## Exploratory Data Analysis"
   ]
  },
  {
   "cell_type": "code",
   "execution_count": 17,
   "id": "6da469fc",
   "metadata": {},
   "outputs": [],
   "source": [
    "# wykresy: pairplot, heatmap, wykresy sp100_close i amzn_close w czasie itp."
   ]
  },
  {
   "cell_type": "markdown",
   "id": "7826704c",
   "metadata": {},
   "source": [
    "# Prediction of future Amazon.com stock prices"
   ]
  },
  {
   "cell_type": "markdown",
   "id": "0f87856f",
   "metadata": {},
   "source": [
    "## Linear Regression"
   ]
  },
  {
   "cell_type": "code",
   "execution_count": 18,
   "id": "4eb76c40",
   "metadata": {},
   "outputs": [],
   "source": [
    "# lm models"
   ]
  },
  {
   "cell_type": "markdown",
   "id": "ac0cc7bc",
   "metadata": {},
   "source": [
    "## SVM (Support Vector Machines)"
   ]
  },
  {
   "cell_type": "code",
   "execution_count": 19,
   "id": "a538f71a",
   "metadata": {},
   "outputs": [],
   "source": [
    "# svm models"
   ]
  },
  {
   "cell_type": "markdown",
   "id": "f0917e4d",
   "metadata": {},
   "source": [
    "## Random Forest Regression"
   ]
  },
  {
   "cell_type": "code",
   "execution_count": 20,
   "id": "2b96c844",
   "metadata": {},
   "outputs": [],
   "source": [
    "# rfr models"
   ]
  },
  {
   "cell_type": "markdown",
   "id": "f8d83aaf",
   "metadata": {},
   "source": [
    "## Gradient Boosting Regressor"
   ]
  },
  {
   "cell_type": "code",
   "execution_count": 21,
   "id": "1f2feead",
   "metadata": {},
   "outputs": [],
   "source": [
    "# gbr models"
   ]
  },
  {
   "cell_type": "markdown",
   "id": "7a03913c",
   "metadata": {},
   "source": [
    "## LSTM (Long-Short Term Memory)"
   ]
  },
  {
   "cell_type": "code",
   "execution_count": 22,
   "id": "4acb9cc3",
   "metadata": {},
   "outputs": [],
   "source": [
    "# lstm models"
   ]
  },
  {
   "cell_type": "markdown",
   "id": "f4f5db12",
   "metadata": {},
   "source": [
    "## GRU (Gated Recurrent Units)"
   ]
  },
  {
   "cell_type": "code",
   "execution_count": 23,
   "id": "8d80654f",
   "metadata": {},
   "outputs": [],
   "source": [
    "# gru models"
   ]
  },
  {
   "cell_type": "markdown",
   "id": "69e3719d",
   "metadata": {},
   "source": [
    "## CNN (Convolutional Neural Network)"
   ]
  },
  {
   "cell_type": "code",
   "execution_count": 24,
   "id": "2397c149",
   "metadata": {},
   "outputs": [],
   "source": [
    "# cnn models"
   ]
  },
  {
   "cell_type": "markdown",
   "id": "6dd6a8e1",
   "metadata": {},
   "source": [
    "## ARIMA (Auto-Regressive Integrated Moving Average)"
   ]
  },
  {
   "cell_type": "code",
   "execution_count": 25,
   "id": "92673a1c",
   "metadata": {},
   "outputs": [],
   "source": [
    "# arima models"
   ]
  },
  {
   "cell_type": "markdown",
   "id": "7dcc31e7",
   "metadata": {},
   "source": [
    "# Best model identification"
   ]
  },
  {
   "cell_type": "code",
   "execution_count": 26,
   "id": "a09c52af",
   "metadata": {},
   "outputs": [],
   "source": [
    "# the best model is: (to be continued...)"
   ]
  },
  {
   "cell_type": "markdown",
   "id": "6383818f",
   "metadata": {},
   "source": [
    "# Real-time data model application"
   ]
  },
  {
   "cell_type": "code",
   "execution_count": 27,
   "id": "439f118c",
   "metadata": {},
   "outputs": [],
   "source": [
    "# application of the best model to the real time data (january-may 2024)"
   ]
  },
  {
   "cell_type": "markdown",
   "id": "902773c9",
   "metadata": {},
   "source": [
    "# What does the future hold...?"
   ]
  },
  {
   "cell_type": "code",
   "execution_count": 28,
   "id": "d1f3d528",
   "metadata": {},
   "outputs": [],
   "source": [
    "# prediction for the next 2 years"
   ]
  }
 ],
 "metadata": {
  "kernelspec": {
   "display_name": "Python 3 (ipykernel)",
   "language": "python",
   "name": "python3"
  },
  "language_info": {
   "codemirror_mode": {
    "name": "ipython",
    "version": 3
   },
   "file_extension": ".py",
   "mimetype": "text/x-python",
   "name": "python",
   "nbconvert_exporter": "python",
   "pygments_lexer": "ipython3",
   "version": "3.9.12"
  }
 },
 "nbformat": 4,
 "nbformat_minor": 5
}
